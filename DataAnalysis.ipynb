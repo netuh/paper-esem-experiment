{
 "cells": [
  {
   "cell_type": "code",
   "execution_count": 21,
   "id": "5a2578cf-d173-4c6f-a505-69a578cde134",
   "metadata": {
    "jupyter": {
     "source_hidden": true
    },
    "scrolled": true
   },
   "outputs": [
    {
     "name": "stdout",
     "output_type": "stream",
     "text": [
      "Requirement already satisfied: scipy in /opt/homebrew/Cellar/jupyterlab/4.2.1/libexec/lib/python3.12/site-packages (1.13.1)\n",
      "Requirement already satisfied: numpy in /opt/homebrew/Cellar/jupyterlab/4.2.1/libexec/lib/python3.12/site-packages (1.26.4)\n",
      "Requirement already satisfied: cliffs-delta in /opt/homebrew/Cellar/jupyterlab/4.2.1/libexec/lib/python3.12/site-packages (1.0.0)\n",
      "Requirement already satisfied: pandas-ods-reader in /opt/homebrew/Cellar/jupyterlab/4.2.1/libexec/lib/python3.12/site-packages (0.1.4)\n",
      "Requirement already satisfied: matplotlib in /opt/homebrew/Cellar/jupyterlab/4.2.1/libexec/lib/python3.12/site-packages (3.9.0)\n",
      "Requirement already satisfied: ezodf<0.4.0,>=0.3.2 in /opt/homebrew/Cellar/jupyterlab/4.2.1/libexec/lib/python3.12/site-packages (from pandas-ods-reader) (0.3.2)\n",
      "Requirement already satisfied: lxml<5.0.0,>=4.6.3 in /opt/homebrew/Cellar/jupyterlab/4.2.1/libexec/lib/python3.12/site-packages (from pandas-ods-reader) (4.9.4)\n",
      "Requirement already satisfied: pandas<2.0.0,>=1.0.0 in /opt/homebrew/Cellar/jupyterlab/4.2.1/libexec/lib/python3.12/site-packages (from pandas-ods-reader) (1.5.3)\n",
      "Requirement already satisfied: contourpy>=1.0.1 in /opt/homebrew/Cellar/jupyterlab/4.2.1/libexec/lib/python3.12/site-packages (from matplotlib) (1.2.1)\n",
      "Requirement already satisfied: cycler>=0.10 in /opt/homebrew/Cellar/jupyterlab/4.2.1/libexec/lib/python3.12/site-packages (from matplotlib) (0.12.1)\n",
      "Requirement already satisfied: fonttools>=4.22.0 in /opt/homebrew/Cellar/jupyterlab/4.2.1/libexec/lib/python3.12/site-packages (from matplotlib) (4.53.0)\n",
      "Requirement already satisfied: kiwisolver>=1.3.1 in /opt/homebrew/Cellar/jupyterlab/4.2.1/libexec/lib/python3.12/site-packages (from matplotlib) (1.4.5)\n",
      "Requirement already satisfied: packaging>=20.0 in /opt/homebrew/Cellar/jupyterlab/4.2.1/libexec/lib/python3.12/site-packages (from matplotlib) (24.0)\n",
      "Requirement already satisfied: pillow>=8 in /opt/homebrew/Cellar/jupyterlab/4.2.1/libexec/lib/python3.12/site-packages (from matplotlib) (10.3.0)\n",
      "Requirement already satisfied: pyparsing>=2.3.1 in /opt/homebrew/Cellar/jupyterlab/4.2.1/libexec/lib/python3.12/site-packages (from matplotlib) (3.1.2)\n",
      "Requirement already satisfied: python-dateutil>=2.7 in /opt/homebrew/Cellar/jupyterlab/4.2.1/libexec/lib/python3.12/site-packages (from matplotlib) (2.9.0.post0)\n",
      "Requirement already satisfied: pytz>=2020.1 in /opt/homebrew/Cellar/jupyterlab/4.2.1/libexec/lib/python3.12/site-packages (from pandas<2.0.0,>=1.0.0->pandas-ods-reader) (2024.1)\n",
      "Requirement already satisfied: six>=1.5 in /opt/homebrew/Cellar/jupyterlab/4.2.1/libexec/lib/python3.12/site-packages (from python-dateutil>=2.7->matplotlib) (1.16.0)\n",
      "Note: you may need to restart the kernel to use updated packages.\n"
     ]
    }
   ],
   "source": [
    "pip install scipy numpy cliffs-delta pandas-ods-reader matplotlib"
   ]
  },
  {
   "cell_type": "code",
   "execution_count": 22,
   "id": "27c4873b-0dae-463d-9d85-94a75cb7ac0a",
   "metadata": {},
   "outputs": [],
   "source": [
    "from IPython.display import Markdown, display\n",
    "from cliffs_delta import cliffs_delta\n",
    "from scipy.stats import tukey_hsd\n",
    "from pandas_ods_reader import read_ods\n",
    "\n",
    "import collections\n",
    "import scipy.stats as stats\n",
    "import numpy as np\n",
    "import matplotlib.pyplot as plt\n",
    "\n",
    "from scipy.stats import mannwhitneyu"
   ]
  },
  {
   "cell_type": "code",
   "execution_count": 23,
   "id": "71762a3c-6405-4266-a1d2-3c9aa0d82cad",
   "metadata": {},
   "outputs": [],
   "source": [
    "path = \"RawData.ods\"\n",
    "\n",
    "# Reading data from Group A - No IA during lab session\n",
    "sheet_name = \"Group A\"\n",
    "df_group_a = read_ods(path, sheet_name).to_numpy()\n",
    "\n",
    "# Reading data from Group B - With IA during lab session\n",
    "sheet_name = \"Group B\"\n",
    "df_group_b = read_ods(path, sheet_name).to_numpy()\n",
    "\n",
    "sheet_name = \"General\"\n",
    "df_general = read_ods(path, sheet_name).to_numpy()"
   ]
  },
  {
   "cell_type": "code",
   "execution_count": 24,
   "id": "ada43189-db2b-4f50-8db0-5641b274c18a",
   "metadata": {
    "scrolled": true
   },
   "outputs": [],
   "source": [
    "#Participant Statistics\n",
    "age_mean = np.mean(df_general[:, 18])\n",
    "age_mean = round(age_mean, 2)\n",
    "semenster_mean = np.mean(df_general[:, 16])\n",
    "semenster_mean = round(semenster_mean, 2)\n",
    "dropout = 3\n",
    "quant_male = np.count_nonzero(df_general[:, 15] == \"Male\")\n",
    "quant_female = np.count_nonzero(df_general[:, 15] == \"Female\")\n",
    "participants = quant_male+quant_female\n",
    "gender_prop_male = quant_male/participants\n",
    "gender_prop_male = round(gender_prop_male, 2)  \n",
    "gender_prop_female = quant_female/participants\n",
    "gender_prop_female = round(gender_prop_female, 2) "
   ]
  },
  {
   "cell_type": "markdown",
   "id": "8b03239e-3701-4513-88b4-ea4e1d5cafbb",
   "metadata": {},
   "source": [
    "# 4.1 Participant Background\n",
    "\n",
    "We collected:\n",
    "* Age\n",
    "* Semester\n",
    "* Gender"
   ]
  },
  {
   "cell_type": "code",
   "execution_count": 25,
   "id": "696ad27a-580b-48a4-913a-dda98dba6ae3",
   "metadata": {
    "jp-MarkdownHeadingCollapsed": true
   },
   "outputs": [
    {
     "data": {
      "text/markdown": [
       "\n",
       "| Participants   | Age Mean   | Semester Mean    | Male         | Male Proportion    | Female         | Female Proportion    | Dropout    |\n",
       "|----------------|------------|------------------|--------------|--------------------|----------------|----------------------|------------|\n",
       "| 30 | 21.93 | 3.37 | 25 | 0.83 | 5 | 0.17 | 3 |\n"
      ],
      "text/plain": [
       "<IPython.core.display.Markdown object>"
      ]
     },
     "metadata": {},
     "output_type": "display_data"
    }
   ],
   "source": [
    "# Table 1\n",
    "table_md = f\"\"\"\n",
    "| Participants   | Age Mean   | Semester Mean    | Male         | Male Proportion    | Female         | Female Proportion    | Dropout    |\n",
    "|----------------|------------|------------------|--------------|--------------------|----------------|----------------------|------------|\n",
    "| {participants} | {age_mean} | {semenster_mean} | {quant_male} | {gender_prop_male} | {quant_female} | {gender_prop_female} | {dropout} |\n",
    "\"\"\"\n",
    "\n",
    "display(Markdown(table_md))"
   ]
  },
  {
   "cell_type": "markdown",
   "id": "ecac3c35-b3fd-4cb3-bc0b-a7b31f32b537",
   "metadata": {},
   "source": [
    "We collected:\n",
    "* If they know GIA\n",
    "* How often the use GIA\n",
    "* How often they use GIA for programming activities"
   ]
  },
  {
   "cell_type": "markdown",
   "id": "094cb05c-27f0-4bd7-8c62-dd3bbcf78384",
   "metadata": {},
   "source": [
    "We also collected:\n",
    "* know IA\n",
    "* How frenquent they use is\n",
    "* How frequent in programing."
   ]
  },
  {
   "cell_type": "code",
   "execution_count": 26,
   "id": "d6a7ed99-4b52-47ea-8506-4a201a6f7864",
   "metadata": {},
   "outputs": [],
   "source": [
    "#Collecting general data\n",
    "#Column 11  - How many times do you use Genetive AI in a common day?\n",
    "general_count = collections.Counter(df_general[:, 11])\n",
    "general_data = []\n",
    "general_labels = []\n",
    "for key, value in general_count.items():\n",
    "    general_labels.append(key)\n",
    "    general_data.append(value)\n",
    "\n",
    "#Column 13  - How often do you use generative AI in programming activities?\n",
    "programinng_count = collections.Counter(df_general[:, 13])\n",
    "\n",
    "programinng_data = []\n",
    "programinng_labels = []\n",
    "for key, value in programinng_count.items():\n",
    "    programinng_labels.append(key)\n",
    "    programinng_data.append(value)\n",
    "\n"
   ]
  },
  {
   "cell_type": "code",
   "execution_count": 27,
   "id": "5423d86f-ad12-4bee-a67b-767cb12862f4",
   "metadata": {},
   "outputs": [
    {
     "data": {
      "image/png": "[encoded data removed]",
      "text/plain": [
       "<Figure size 640x480 with 1 Axes>"
      ]
     },
     "metadata": {},
     "output_type": "display_data"
    }
   ],
   "source": [
    "# How many times do you use Genetive AI in a common day?\n",
    "plt.pie(general_data, labels=general_labels, autopct='%1.1f%%', startangle=140)\n",
    "plt.title('How many times do you use Genetive AI in a common day?')\n",
    "plt.show()"
   ]
  },
  {
   "cell_type": "code",
   "execution_count": 28,
   "id": "ffe60790-b687-45ef-b392-0945cb58c3a7",
   "metadata": {},
   "outputs": [
    {
     "data": {
      "image/png": "[encoded data removed]",
      "text/plain": [
       "<Figure size 640x480 with 1 Axes>"
      ]
     },
     "metadata": {},
     "output_type": "display_data"
    }
   ],
   "source": [
    "# How often do you use generative AI in programming activities?\n",
    "plt.pie(programinng_data, labels=programinng_labels, autopct='%1.1f%%', startangle=140)\n",
    "plt.title('How often do you use generative AI in programming activities?')\n",
    "plt.show()"
   ]
  },
  {
   "cell_type": "markdown",
   "id": "b896b4cb-5aca-4cfb-b6f6-4f2227850e19",
   "metadata": {},
   "source": [
    "# Difference between groups\n",
    "\n",
    "We calculate if there is diffence between the groups with pre-test."
   ]
  },
  {
   "cell_type": "code",
   "execution_count": 29,
   "id": "a39abab2-f855-470f-b161-f844b215d298",
   "metadata": {},
   "outputs": [],
   "source": [
    "n_group_a = np.count_nonzero(df_group_a[:, 2])\n",
    "mean_group_a = round(np.mean(df_group_a[:, 2]), 3)\n",
    "var_group_a = round(np.var(df_group_a[:, 2]), 3)\n",
    "exame1_group_a = df_group_a[:, 2].tolist()\n",
    "\n",
    "n_group_b = np.count_nonzero(df_group_b[:, 2])\n",
    "mean_group_b = round(np.mean(df_group_b[:, 2]), 3)\n",
    "var_group_b = round(np.var(df_group_b[:, 2]), 3)\n",
    "exame1_group_b = df_group_b[:, 2].tolist()\n",
    "\n",
    "U, p = mannwhitneyu(exame1_group_a, exame1_group_b, method=\"exact\")\n",
    "d, res = cliffs_delta(exame1_group_a, exame1_group_b)\n",
    "\n",
    "U = int(U)\n",
    "p = round(p, 5)\n",
    "d = round(d, 5)"
   ]
  },
  {
   "cell_type": "code",
   "execution_count": 30,
   "id": "0eaee563-e8e0-4057-8fb9-33b45c58f134",
   "metadata": {},
   "outputs": [
    {
     "data": {
      "text/markdown": [
       "\n",
       "| Groups   | N           | Mean           | Variance      | U Statistics | p-value | Cliffs-delta | Cliffs-d result |\n",
       "|----------|-------------|----------------|---------------|--------------|---------|--------------|-----------------|\n",
       "| Group A  | 11 | 4.802 | 1.989 | 67          | 0.6092     | -0.12987          |negligible            |\n",
       "| Group B  | 14 | 5.141 | 0.653 | -            | -       | -            | -               |\n"
      ],
      "text/plain": [
       "<IPython.core.display.Markdown object>"
      ]
     },
     "metadata": {},
     "output_type": "display_data"
    }
   ],
   "source": [
    "# Table 1\n",
    "table_md = f\"\"\"\n",
    "| Groups   | N           | Mean           | Variance      | U Statistics | p-value | Cliffs-delta | Cliffs-d result |\n",
    "|----------|-------------|----------------|---------------|--------------|---------|--------------|-----------------|\n",
    "| Group A  | {n_group_a} | {mean_group_a} | {var_group_a} | {U}          | {p}     | {d}          |{res}            |\n",
    "| Group B  | {n_group_b} | {mean_group_b} | {var_group_b} | -            | -       | -            | -               |\n",
    "\"\"\"\n",
    "\n",
    "display(Markdown(table_md))"
   ]
  },
  {
   "cell_type": "markdown",
   "id": "181a6479-5e6f-4358-a84f-59524609a403",
   "metadata": {},
   "source": [
    "There is no difference or any result Cliffs-delta."
   ]
  },
  {
   "cell_type": "markdown",
   "id": "ab660af5-c661-4b39-bfe3-6ce13bde367f",
   "metadata": {},
   "source": [
    "# ChatGPT and No-Chat GPT\n",
    "\n",
    "We calculate if there is diffence between the groups with pre-test"
   ]
  },
  {
   "cell_type": "code",
   "execution_count": 31,
   "id": "1005a7fa-3c86-4f81-b809-86da5e8611a4",
   "metadata": {},
   "outputs": [],
   "source": [
    "column_exame_2 = 4\n",
    "\n",
    "n_group_a = np.count_nonzero(df_group_a[:, column_exame_2])\n",
    "mean_group_a = round(np.mean(df_group_a[:, column_exame_2]), 3)\n",
    "var_group_a = round(np.var(df_group_a[:, column_exame_2]), 3)\n",
    "exame2_group_a = df_group_a[:, column_exame_2].tolist()\n",
    "\n",
    "n_group_b = np.count_nonzero(df_group_b[:, column_exame_2])\n",
    "mean_group_b = round(np.mean(df_group_b[:, column_exame_2]), 3)\n",
    "var_group_b = round(np.var(df_group_b[:, column_exame_2]), 3)\n",
    "exame2_group_b = df_group_b[:, column_exame_2].tolist()\n",
    "\n",
    "U, p = mannwhitneyu(exame2_group_a, exame2_group_b, method=\"exact\")\n",
    "d, res = cliffs_delta(exame2_group_a, exame2_group_b)\n",
    "\n",
    "U = int(U)\n",
    "p = round(p, 5)\n",
    "d = round(d, 5)"
   ]
  },
  {
   "cell_type": "code",
   "execution_count": 32,
   "id": "24feec33-b8c9-44ec-b18e-fa050e08b296",
   "metadata": {},
   "outputs": [
    {
     "data": {
      "text/markdown": [
       "\n",
       "| Groups   | N           | Mean           | Variance      | U Statistics | p-value | Cliffs-delta | Cliffs-d result |\n",
       "|----------|-------------|----------------|---------------|--------------|---------|--------------|-----------------|\n",
       "| Group A  | 11 | 5.022 | 1.747 | 97          | 0.29148     | 0.26623          |small            |\n",
       "| Group B  | 14 | 4.592 | 0.797 | -            | -       | -            | -               |\n"
      ],
      "text/plain": [
       "<IPython.core.display.Markdown object>"
      ]
     },
     "metadata": {},
     "output_type": "display_data"
    }
   ],
   "source": [
    "# Table 1\n",
    "table_md = f\"\"\"\n",
    "| Groups   | N           | Mean           | Variance      | U Statistics | p-value | Cliffs-delta | Cliffs-d result |\n",
    "|----------|-------------|----------------|---------------|--------------|---------|--------------|-----------------|\n",
    "| Group A  | {n_group_a} | {mean_group_a} | {var_group_a} | {U}          | {p}     | {d}          |{res}            |\n",
    "| Group B  | {n_group_b} | {mean_group_b} | {var_group_b} | -            | -       | -            | -               |\n",
    "\"\"\"\n",
    "\n",
    "display(Markdown(table_md))"
   ]
  },
  {
   "cell_type": "markdown",
   "id": "29aa328b-2a55-4c5a-a2fa-cfa94a5aa50b",
   "metadata": {},
   "source": [
    "We can see the effect but there is no difference using or not the IA."
   ]
  },
  {
   "cell_type": "markdown",
   "id": "362a4cb1-20e6-4f0d-b313-7b2add72a261",
   "metadata": {},
   "source": [
    "# Group B - pre and pos-test comparison\n",
    "\n",
    "We calculate if there is diffence between regarding group B pre and post-test"
   ]
  },
  {
   "cell_type": "code",
   "execution_count": 33,
   "id": "0d88f6d6-d906-4418-a363-8caf07ad8bc9",
   "metadata": {},
   "outputs": [],
   "source": [
    "n_group_b1 = np.count_nonzero(df_group_b[:, 2])\n",
    "mean_group_b1 = round(np.mean(df_group_b[:, 2]), 3)\n",
    "var_group_b1 = round(np.var(df_group_b[:, 2]), 3)\n",
    "exame1_group_b = df_group_b[:, 2].tolist()\n",
    "\n",
    "n_group_b2 = np.count_nonzero(df_group_b[:, 4])\n",
    "mean_group_b2 = round(np.mean(df_group_b[:, 4]), 3)\n",
    "var_group_b2 = round(np.var(df_group_b[:, 4]), 3)\n",
    "exame2_group_b = df_group_b[:, 4].tolist()\n",
    "\n",
    "U, p = mannwhitneyu(exame1_group_b, exame2_group_b, method=\"exact\")\n",
    "d, res = cliffs_delta(exame1_group_b, exame2_group_b)\n",
    "\n",
    "U = int(U)\n",
    "p = round(p, 5)\n",
    "d = round(d, 5)"
   ]
  },
  {
   "cell_type": "code",
   "execution_count": 34,
   "id": "26954d64-a56c-46cd-affe-2a1f384c623a",
   "metadata": {},
   "outputs": [
    {
     "data": {
      "text/markdown": [
       "\n",
       "| Groups       | N            | Mean            | Variance       | U Statistics | p-value | Cliffs-delta | Cliffs-d result |\n",
       "|--------------|--------------|-----------------|----------------|--------------|---------|--------------|-----------------|\n",
       "| Group B-pre  | 14 | 5.141 | 0.653 | 117          | 0.40126     | 0.19898          |small            |\n",
       "| Group B-pos  | 14 | 4.592 | 0.797 | -            | -       | -            | -               |\n"
      ],
      "text/plain": [
       "<IPython.core.display.Markdown object>"
      ]
     },
     "metadata": {},
     "output_type": "display_data"
    }
   ],
   "source": [
    "# Table 1\n",
    "table_md = f\"\"\"\n",
    "| Groups       | N            | Mean            | Variance       | U Statistics | p-value | Cliffs-delta | Cliffs-d result |\n",
    "|--------------|--------------|-----------------|----------------|--------------|---------|--------------|-----------------|\n",
    "| Group B-pre  | {n_group_b1} | {mean_group_b1} | {var_group_b1} | {U}          | {p}     | {d}          |{res}            |\n",
    "| Group B-pos  | {n_group_b2} | {mean_group_b2} | {var_group_b2} | -            | -       | -            | -               |\n",
    "\"\"\"\n",
    "\n",
    "display(Markdown(table_md))"
   ]
  },
  {
   "cell_type": "markdown",
   "id": "1c061892-5829-469a-b69d-ab4d15f11719",
   "metadata": {},
   "source": [
    "We can see the effect but there is no difference using or not the IA."
   ]
  },
  {
   "cell_type": "markdown",
   "id": "e8f24c7e-4ea1-4273-aeeb-8574f805c032",
   "metadata": {},
   "source": [
    "# Group A - pre and pos-test comparison\n",
    "\n",
    "We calculate if there is diffence between regarding group B pre and post-test"
   ]
  },
  {
   "cell_type": "code",
   "execution_count": 35,
   "id": "8bc89324-8bfd-418e-88d1-044b9b44cbab",
   "metadata": {},
   "outputs": [],
   "source": [
    "n_group_a1 = np.count_nonzero(df_group_a[:, 2])\n",
    "mean_group_a1 = round(np.mean(df_group_a[:, 2]), 3)\n",
    "var_group_a1 = round(np.var(df_group_a[:, 2]), 3)\n",
    "exame1_group_a = df_group_a[:, 2].tolist()\n",
    "\n",
    "n_group_a2 = np.count_nonzero(df_group_a[:, 4])\n",
    "mean_group_a2 = round(np.mean(df_group_a[:, 4]), 3)\n",
    "var_group_a2 = round(np.var(df_group_a[:, 4]), 3)\n",
    "exame2_group_a = df_group_a[:, 4].tolist()\n",
    "\n",
    "U, p = mannwhitneyu(exame1_group_a, exame2_group_a, method=\"exact\")\n",
    "d, res = cliffs_delta(exame1_group_a, exame2_group_a)\n",
    "\n",
    "U = int(U)\n",
    "p = round(p, 5)\n",
    "d = round(d, 5)"
   ]
  },
  {
   "cell_type": "code",
   "execution_count": 36,
   "id": "a2809583-9273-4310-9eca-84234be025a3",
   "metadata": {},
   "outputs": [
    {
     "data": {
      "text/markdown": [
       "\n",
       "| Groups       | N            | Mean            | Variance       | U Statistics | p-value | Cliffs-delta | Cliffs-d result |\n",
       "|--------------|--------------|-----------------|----------------|--------------|---------|--------------|-----------------|\n",
       "| Group A-pre  | 11 | 4.802 | 1.989 | 49          | 0.47785     | -0.19008          |small            |\n",
       "| Group A-pos  | 11 | 5.022 | 1.747 | -            | -       | -            | -               |\n"
      ],
      "text/plain": [
       "<IPython.core.display.Markdown object>"
      ]
     },
     "metadata": {},
     "output_type": "display_data"
    }
   ],
   "source": [
    "# Table 1\n",
    "table_md = f\"\"\"\n",
    "| Groups       | N            | Mean            | Variance       | U Statistics | p-value | Cliffs-delta | Cliffs-d result |\n",
    "|--------------|--------------|-----------------|----------------|--------------|---------|--------------|-----------------|\n",
    "| Group A-pre  | {n_group_a1} | {mean_group_a1} | {var_group_a1} | {U}          | {p}     | {d}          |{res}            |\n",
    "| Group A-pos  | {n_group_a2} | {mean_group_a2} | {var_group_a2} | -            | -       | -            | -               |\n",
    "\"\"\"\n",
    "\n",
    "display(Markdown(table_md))"
   ]
  },
  {
   "cell_type": "markdown",
   "id": "fd9b0ff4-ed22-4d4d-8943-05473bcf51b7",
   "metadata": {},
   "source": [
    "# Group A and B - Mid-term exam\n",
    "\n",
    "We calculate if there is diffence between regarding group B pre and post-test"
   ]
  },
  {
   "cell_type": "code",
   "execution_count": 37,
   "id": "497c9208-11b3-4dff-ba3b-70be6ac36668",
   "metadata": {},
   "outputs": [],
   "source": [
    "column_exame_2 = 5\n",
    "\n",
    "n_group_a = np.count_nonzero(df_group_a[:, column_exame_2])\n",
    "mean_group_a = round(np.mean(df_group_a[:, column_exame_2]), 3)\n",
    "var_group_a = round(np.var(df_group_a[:, column_exame_2]), 3)\n",
    "exame2_group_a = df_group_a[:, column_exame_2].tolist()\n",
    "\n",
    "n_group_b = np.count_nonzero(df_group_b[:, column_exame_2])\n",
    "mean_group_b = round(np.mean(df_group_b[:, column_exame_2]), 3)\n",
    "var_group_b = round(np.var(df_group_b[:, column_exame_2]), 3)\n",
    "exame2_group_b = df_group_b[:, column_exame_2].tolist()\n",
    "\n",
    "U, p = mannwhitneyu(exame2_group_a, exame2_group_b, method=\"exact\")\n",
    "d, res = cliffs_delta(exame2_group_a, exame2_group_b)\n",
    "\n",
    "U = int(U)\n",
    "p = round(p, 5)\n",
    "d = round(d, 5)"
   ]
  },
  {
   "cell_type": "code",
   "execution_count": 38,
   "id": "f7d95b1b-b1e5-4ec3-ae5e-a071ebc3c9cf",
   "metadata": {},
   "outputs": [
    {
     "data": {
      "text/markdown": [
       "\n",
       "| Groups       | N           | Mean           | Variance      | U Statistics | p-value | Cliffs-delta | Cliffs-d result |\n",
       "|--------------|-------------|----------------|---------------|--------------|---------|--------------|-----------------|\n",
       "| Group A      | 11 | 6.773 | 6.317 | 62          | 0.46682     | -0.18831          |small            |\n",
       "| Group B      | 14 | 7.429 | 4.833 | -            | -       | -            | -               |\n"
      ],
      "text/plain": [
       "<IPython.core.display.Markdown object>"
      ]
     },
     "metadata": {},
     "output_type": "display_data"
    }
   ],
   "source": [
    "# Table 1\n",
    "table_md = f\"\"\"\n",
    "| Groups       | N           | Mean           | Variance      | U Statistics | p-value | Cliffs-delta | Cliffs-d result |\n",
    "|--------------|-------------|----------------|---------------|--------------|---------|--------------|-----------------|\n",
    "| Group A      | {n_group_a} | {mean_group_a} | {var_group_a} | {U}          | {p}     | {d}          |{res}            |\n",
    "| Group B      | {n_group_b} | {mean_group_b} | {var_group_b} | -            | -       | -            | -               |\n",
    "\"\"\"\n",
    "\n",
    "display(Markdown(table_md))"
   ]
  },
  {
   "cell_type": "markdown",
   "id": "2c21b357-ec67-477a-a1e1-dfedaeda932d",
   "metadata": {},
   "source": [
    "# Group A and B - MOSS exam\n",
    "\n",
    "We calculate if there is diffence between regarding group B pre and post-test"
   ]
  },
  {
   "cell_type": "code",
   "execution_count": 39,
   "id": "070852c7-1a56-4ef6-a8cc-51c86af3e7a2",
   "metadata": {},
   "outputs": [],
   "source": [
    "column_exame_2 = 6\n",
    "\n",
    "n_group_a = np.count_nonzero(df_group_a[:, column_exame_2])\n",
    "mean_group_a = round(np.mean(df_group_a[:, column_exame_2]), 3)\n",
    "max_group_a = np.max(df_group_a[:, column_exame_2])\n",
    "min_group_a = np.min(df_group_a[:, column_exame_2])\n",
    "var_group_a = round(np.var(df_group_a[:, column_exame_2]), 3)\n",
    "exame2_group_a = df_group_a[:, column_exame_2].tolist()\n",
    "\n",
    "n_group_b = np.count_nonzero(df_group_b[:, column_exame_2])\n",
    "max_group_b = np.max(df_group_b[:, column_exame_2])\n",
    "min_group_b = np.min(df_group_b[:, column_exame_2])\n",
    "mean_group_b = round(np.mean(df_group_b[:, column_exame_2]), 3)\n",
    "var_group_b = round(np.var(df_group_b[:, column_exame_2]), 3)\n",
    "exame2_group_b = df_group_b[:, column_exame_2].tolist()\n",
    "\n",
    "U, p = mannwhitneyu(exame2_group_a, exame2_group_b, method=\"exact\")\n",
    "d, res = cliffs_delta(exame2_group_a, exame2_group_b)\n",
    "\n",
    "U = int(U)\n",
    "p = round(p, 5)\n",
    "d = round(d, 5)"
   ]
  },
  {
   "cell_type": "code",
   "execution_count": 40,
   "id": "48556b68-5a25-40e7-b372-cb62dca23976",
   "metadata": {},
   "outputs": [
    {
     "data": {
      "text/markdown": [
       "\n",
       "| Groups       | N           | Min           | Max           | Mean           | Variance      | U Statistics | p-value | Cliffs-delta | Cliffs-d result |\n",
       "|--------------|-------------|---------------|---------------|----------------|---------------|--------------|---------|--------------|-----------------|\n",
       "| Group A      | 11 | 64.07 | 81.56 | 71.691 | 23.775 | 40          | 0.04423     | -0.48052          |large            |\n",
       "| Group B      | 14 | 65.57 | 100.0 | 81.179 | 126.616 | -            | -       | -            | -               |\n"
      ],
      "text/plain": [
       "<IPython.core.display.Markdown object>"
      ]
     },
     "metadata": {},
     "output_type": "display_data"
    }
   ],
   "source": [
    "# Table 1\n",
    "table_md = f\"\"\"\n",
    "| Groups       | N           | Min           | Max           | Mean           | Variance      | U Statistics | p-value | Cliffs-delta | Cliffs-d result |\n",
    "|--------------|-------------|---------------|---------------|----------------|---------------|--------------|---------|--------------|-----------------|\n",
    "| Group A      | {n_group_a} | {min_group_a} | {max_group_a} | {mean_group_a} | {var_group_a} | {U}          | {p}     | {d}          |{res}            |\n",
    "| Group B      | {n_group_b} | {min_group_b} | {max_group_b} | {mean_group_b} | {var_group_b} | -            | -       | -            | -               |\n",
    "\"\"\"\n",
    "\n",
    "display(Markdown(table_md))"
   ]
  }
 ],
 "metadata": {
  "kernelspec": {
   "display_name": "Python 3 (ipykernel)",
   "language": "python",
   "name": "python3"
  },
  "language_info": {
   "codemirror_mode": {
    "name": "ipython",
    "version": 3
   },
   "file_extension": ".py",
   "mimetype": "text/x-python",
   "name": "python",
   "nbconvert_exporter": "python",
   "pygments_lexer": "ipython3",
   "version": "3.12.3"
  }
 },
 "nbformat": 4,
 "nbformat_minor": 5
}
