{
 "cells": [
  {
   "cell_type": "code",
   "execution_count": 64,
   "id": "5a2578cf-d173-4c6f-a505-69a578cde134",
   "metadata": {
    "jupyter": {
     "source_hidden": true
    },
    "scrolled": true
   },
   "outputs": [
    {
     "name": "stdout",
     "output_type": "stream",
     "text": [
      "Defaulting to user installation because normal site-packages is not writeable\n",
      "Requirement already satisfied: scipy in /Users/netuh/Library/Python/3.9/lib/python/site-packages (1.13.1)\n",
      "Requirement already satisfied: numpy in /Users/netuh/Library/Python/3.9/lib/python/site-packages (2.0.2)\n",
      "Requirement already satisfied: cliffs-delta in /Users/netuh/Library/Python/3.9/lib/python/site-packages (1.0.0)\n",
      "Requirement already satisfied: pandas-ods-reader in /Users/netuh/Library/Python/3.9/lib/python/site-packages (1.0.2)\n",
      "Requirement already satisfied: matplotlib in /Users/netuh/Library/Python/3.9/lib/python/site-packages (3.9.4)\n",
      "Requirement already satisfied: pandas>=2.2.3 in /Users/netuh/Library/Python/3.9/lib/python/site-packages (from pandas-ods-reader) (2.2.3)\n",
      "Requirement already satisfied: ezodf>=0.3.2 in /Users/netuh/Library/Python/3.9/lib/python/site-packages (from pandas-ods-reader) (0.3.2)\n",
      "Requirement already satisfied: lxml>=4.9.2 in /Users/netuh/Library/Python/3.9/lib/python/site-packages (from pandas-ods-reader) (5.4.0)\n",
      "Requirement already satisfied: kiwisolver>=1.3.1 in /Users/netuh/Library/Python/3.9/lib/python/site-packages (from matplotlib) (1.4.7)\n",
      "Requirement already satisfied: importlib-resources>=3.2.0 in /Users/netuh/Library/Python/3.9/lib/python/site-packages (from matplotlib) (6.5.2)\n",
      "Requirement already satisfied: packaging>=20.0 in /Users/netuh/Library/Python/3.9/lib/python/site-packages (from matplotlib) (25.0)\n",
      "Requirement already satisfied: pyparsing>=2.3.1 in /Users/netuh/Library/Python/3.9/lib/python/site-packages (from matplotlib) (3.2.3)\n",
      "Requirement already satisfied: pillow>=8 in /Users/netuh/Library/Python/3.9/lib/python/site-packages (from matplotlib) (11.2.1)\n",
      "Requirement already satisfied: cycler>=0.10 in /Users/netuh/Library/Python/3.9/lib/python/site-packages (from matplotlib) (0.12.1)\n",
      "Requirement already satisfied: fonttools>=4.22.0 in /Users/netuh/Library/Python/3.9/lib/python/site-packages (from matplotlib) (4.58.0)\n",
      "Requirement already satisfied: python-dateutil>=2.7 in /Users/netuh/Library/Python/3.9/lib/python/site-packages (from matplotlib) (2.9.0.post0)\n",
      "Requirement already satisfied: contourpy>=1.0.1 in /Users/netuh/Library/Python/3.9/lib/python/site-packages (from matplotlib) (1.3.0)\n",
      "Requirement already satisfied: zipp>=3.1.0 in /Users/netuh/Library/Python/3.9/lib/python/site-packages (from importlib-resources>=3.2.0->matplotlib) (3.21.0)\n",
      "Requirement already satisfied: pytz>=2020.1 in /Users/netuh/Library/Python/3.9/lib/python/site-packages (from pandas>=2.2.3->pandas-ods-reader) (2025.2)\n",
      "Requirement already satisfied: tzdata>=2022.7 in /Users/netuh/Library/Python/3.9/lib/python/site-packages (from pandas>=2.2.3->pandas-ods-reader) (2025.2)\n",
      "Requirement already satisfied: six>=1.5 in /Library/Developer/CommandLineTools/Library/Frameworks/Python3.framework/Versions/3.9/lib/python3.9/site-packages (from python-dateutil>=2.7->matplotlib) (1.15.0)\n",
      "\u001b[33mWARNING: You are using pip version 21.2.4; however, version 25.1.1 is available.\n",
      "You should consider upgrading via the '/Library/Developer/CommandLineTools/usr/bin/python3 -m pip install --upgrade pip' command.\u001b[0m\n",
      "Note: you may need to restart the kernel to use updated packages.\n"
     ]
    }
   ],
   "source": [
    "pip install scipy numpy cliffs-delta pandas-ods-reader matplotlib"
   ]
  },
  {
   "cell_type": "code",
   "execution_count": 65,
   "id": "27c4873b-0dae-463d-9d85-94a75cb7ac0a",
   "metadata": {},
   "outputs": [],
   "source": [
    "from IPython.display import Markdown, display\n",
    "from cliffs_delta import cliffs_delta\n",
    "from scipy.stats import tukey_hsd\n",
    "from pandas_ods_reader import read_ods\n",
    "\n",
    "import collections\n",
    "import scipy.stats as stats\n",
    "from scipy.stats import wilcoxon\n",
    "import numpy as np\n",
    "import matplotlib.pyplot as plt\n",
    "\n",
    "from scipy.stats import mannwhitneyu"
   ]
  },
  {
   "cell_type": "code",
   "execution_count": 66,
   "id": "71762a3c-6405-4266-a1d2-3c9aa0d82cad",
   "metadata": {},
   "outputs": [],
   "source": [
    "path = \"RawData.ods\"\n",
    "\n",
    "# Reading data from Group A - With IA during lab session\n",
    "sheet_name = \"Group_A\"\n",
    "df_group_a = read_ods(path, sheet_name)\n",
    "\n",
    "# Reading data from Group B -  No IA during lab session\n",
    "sheet_name = \"Group_B\"\n",
    "df_group_b = read_ods(path, sheet_name)\n",
    "\n",
    "sheet_name = \"General\"\n",
    "df_general = read_ods(path, sheet_name)"
   ]
  },
  {
   "cell_type": "code",
   "execution_count": 67,
   "id": "ada43189-db2b-4f50-8db0-5641b274c18a",
   "metadata": {
    "scrolled": true
   },
   "outputs": [],
   "source": [
    "#Participant Statistics\n",
    "age_mean = df_general['Age'].mean()\n",
    "age_mean = round(age_mean, 2)\n",
    "# age semester - 13\n",
    "semenster_mean = df_general['Semester'].mean()\n",
    "semenster_mean = round(semenster_mean, 2)\n",
    "# age semester - 13\n",
    "dropout = 4\n",
    "# age gender - 12\n",
    "quant_male = (df_general['Gender'] == 'Male').sum()\n",
    "quant_female = (df_general['Gender'] == 'Female').sum()\n",
    "participants = quant_male+quant_female\n",
    "gender_prop_male = quant_male/participants\n",
    "gender_prop_male = round(gender_prop_male, 2)  \n",
    "gender_prop_female = quant_female/participants\n",
    "gender_prop_female = round(gender_prop_female, 2) "
   ]
  },
  {
   "cell_type": "markdown",
   "id": "8b03239e-3701-4513-88b4-ea4e1d5cafbb",
   "metadata": {},
   "source": [
    "# 4.1 Participant Background\n",
    "\n",
    "We collected:\n",
    "* Age\n",
    "* Semester\n",
    "* Gender"
   ]
  },
  {
   "cell_type": "code",
   "execution_count": 68,
   "id": "696ad27a-580b-48a4-913a-dda98dba6ae3",
   "metadata": {
    "jp-MarkdownHeadingCollapsed": true
   },
   "outputs": [
    {
     "data": {
      "text/markdown": [
       "\n",
       "| Participants   | Age Mean   | Semester Mean    | Male         | Male Proportion    | Female         | Female Proportion    | Dropout    |\n",
       "|----------------|------------|------------------|--------------|--------------------|----------------|----------------------|------------|\n",
       "| 42 | 22.21 | 3.45 | 36 | 0.86 | 6 | 0.14 | 4 |\n"
      ],
      "text/plain": [
       "<IPython.core.display.Markdown object>"
      ]
     },
     "metadata": {},
     "output_type": "display_data"
    }
   ],
   "source": [
    "# Table 1\n",
    "table_md = f\"\"\"\n",
    "| Participants   | Age Mean   | Semester Mean    | Male         | Male Proportion    | Female         | Female Proportion    | Dropout    |\n",
    "|----------------|------------|------------------|--------------|--------------------|----------------|----------------------|------------|\n",
    "| {participants} | {age_mean} | {semenster_mean} | {quant_male} | {gender_prop_male} | {quant_female} | {gender_prop_female} | {dropout} |\n",
    "\"\"\"\n",
    "\n",
    "display(Markdown(table_md))"
   ]
  },
  {
   "cell_type": "markdown",
   "id": "ecac3c35-b3fd-4cb3-bc0b-a7b31f32b537",
   "metadata": {},
   "source": [
    "We collected:\n",
    "* If they know GIA\n",
    "* How often the use GIA\n",
    "* How often they use GIA for programming activities"
   ]
  },
  {
   "cell_type": "markdown",
   "id": "094cb05c-27f0-4bd7-8c62-dd3bbcf78384",
   "metadata": {},
   "source": [
    "We also collected:\n",
    "* know IA\n",
    "* How frenquent they use is\n",
    "* How frequent in programing."
   ]
  },
  {
   "cell_type": "code",
   "execution_count": 86,
   "id": "95fcfe16",
   "metadata": {},
   "outputs": [
    {
     "data": {
      "image/png": "[encoded data removed]",
      "text/plain": [
       "<Figure size 640x480 with 1 Axes>"
      ]
     },
     "metadata": {},
     "output_type": "display_data"
    },
    {
     "name": "stdout",
     "output_type": "stream",
     "text": [
      "Programming\n",
      "Almost Always    30\n",
      "Rarely            8\n",
      "Always            4\n",
      "Name: count, dtype: int64\n"
     ]
    }
   ],
   "source": [
    "counts = df_general['Programming'].value_counts(dropna=False)\n",
    "counts.plot.pie(autopct='%1.1f%%', shadow=True)\n",
    "plt.title('How often do you use generative AI in programming activities?')\n",
    "plt.show()\n",
    "print(counts)"
   ]
  },
  {
   "cell_type": "code",
   "execution_count": 85,
   "id": "6298293f",
   "metadata": {},
   "outputs": [
    {
     "data": {
      "image/png": "[encoded data removed]",
      "text/plain": [
       "<Figure size 640x480 with 1 Axes>"
      ]
     },
     "metadata": {},
     "output_type": "display_data"
    },
    {
     "name": "stdout",
     "output_type": "stream",
     "text": [
      "ai_day-by-day\n",
      "A few times a week      17\n",
      "Several times a week    15\n",
      "More than once a day     5\n",
      "Once a day               3\n",
      "Rarely                   2\n",
      "Name: count, dtype: int64\n"
     ]
    }
   ],
   "source": [
    "counts = df_general['ai_day-by-day'].value_counts(dropna=False)\n",
    "counts.plot.pie(autopct='%1.1f%%', shadow=True)\n",
    "plt.title('How many times do you use Genetive AI in a common day?')\n",
    "plt.show()\n",
    "print(counts)"
   ]
  },
  {
   "cell_type": "markdown",
   "id": "b896b4cb-5aca-4cfb-b6f6-4f2227850e19",
   "metadata": {},
   "source": [
    "# Difference between groups\n",
    "\n",
    "We calculate if there is diffence between the groups with pre-test."
   ]
  },
  {
   "cell_type": "code",
   "execution_count": 71,
   "id": "a39abab2-f855-470f-b161-f844b215d298",
   "metadata": {},
   "outputs": [],
   "source": [
    "n_group_a = df_group_a['score_pre'].count()\n",
    "mean_group_a = round(df_group_a['score_pre'].mean(), 3)\n",
    "var_group_a = round(df_group_a['score_pre'].var(), 3)\n",
    "exame1_group_a = df_group_a['score_pre']\n",
    "\n",
    "n_group_b = df_group_b['score_pre'].count()\n",
    "mean_group_b = round(df_group_b['score_pre'].mean(), 3)\n",
    "var_group_b = round(df_group_b['score_pre'].var(), 3)\n",
    "exame1_group_b = df_group_b['score_pre']\n",
    "\n",
    "U, p = mannwhitneyu(exame1_group_a, exame1_group_b, method=\"exact\")\n",
    "d, res = cliffs_delta(exame1_group_a, exame1_group_b)\n",
    "\n",
    "U = int(U)\n",
    "p = round(p, 5)\n",
    "d = round(d, 5)"
   ]
  },
  {
   "cell_type": "code",
   "execution_count": 72,
   "id": "0eaee563-e8e0-4057-8fb9-33b45c58f134",
   "metadata": {},
   "outputs": [
    {
     "data": {
      "text/markdown": [
       "\n",
       "| Groups   | N           | Mean           | Variance      | U Statistics | p-value | Cliffs-delta | Cliffs-d result |\n",
       "|----------|-------------|----------------|---------------|--------------|---------|--------------|-----------------|\n",
       "| Group A  | 24 | 4.864 | 0.76 | 216          | 1.0     | 0.0          |negligible            |\n",
       "| Group B  | 18 | 5.035 | 1.942 | -            | -       | -            | -               |\n"
      ],
      "text/plain": [
       "<IPython.core.display.Markdown object>"
      ]
     },
     "metadata": {},
     "output_type": "display_data"
    }
   ],
   "source": [
    "# Table 1\n",
    "table_md = f\"\"\"\n",
    "| Groups   | N           | Mean           | Variance      | U Statistics | p-value | Cliffs-delta | Cliffs-d result |\n",
    "|----------|-------------|----------------|---------------|--------------|---------|--------------|-----------------|\n",
    "| Group A  | {n_group_a} | {mean_group_a} | {var_group_a} | {U}          | {p}     | {d}          |{res}            |\n",
    "| Group B  | {n_group_b} | {mean_group_b} | {var_group_b} | -            | -       | -            | -               |\n",
    "\"\"\"\n",
    "\n",
    "display(Markdown(table_md))"
   ]
  },
  {
   "cell_type": "code",
   "execution_count": 73,
   "id": "577d4afb",
   "metadata": {},
   "outputs": [
    {
     "data": {
      "image/png": "[encoded data removed]",
      "text/plain": [
       "<Figure size 640x480 with 1 Axes>"
      ]
     },
     "metadata": {},
     "output_type": "display_data"
    }
   ],
   "source": [
    "# Importing pandas library \n",
    "import pandas as pd \n",
    "\n",
    "# Creating a Data frame \n",
    "values = df_general['Score1']\n",
    "\n",
    "# Creating Histograms of columns 'Length' \n",
    "# and 'Breadth' using Dataframe.hist() \n",
    "# function \n",
    "hist = values.hist() \n"
   ]
  },
  {
   "cell_type": "code",
   "execution_count": 74,
   "id": "426bab6e",
   "metadata": {},
   "outputs": [
    {
     "data": {
      "image/png": "[encoded data removed]",
      "text/plain": [
       "<Figure size 640x480 with 1 Axes>"
      ]
     },
     "metadata": {},
     "output_type": "display_data"
    }
   ],
   "source": [
    "# Importing pandas library \n",
    "import pandas as pd \n",
    "\n",
    "# Creating a Data frame \n",
    "values = df_general['Score2']\n",
    "\n",
    "# Creating Histograms of columns 'Length' \n",
    "# and 'Breadth' using Dataframe.hist() \n",
    "# function \n",
    "hist = values.hist() "
   ]
  },
  {
   "cell_type": "markdown",
   "id": "181a6479-5e6f-4358-a84f-59524609a403",
   "metadata": {},
   "source": [
    "There is no difference or any result Cliffs-delta."
   ]
  },
  {
   "cell_type": "markdown",
   "id": "ab660af5-c661-4b39-bfe3-6ce13bde367f",
   "metadata": {},
   "source": [
    "# ChatGPT and No-Chat GPT\n",
    "\n",
    "We calculate if there is diffence between the groups with pos-test"
   ]
  },
  {
   "cell_type": "code",
   "execution_count": 75,
   "id": "1005a7fa-3c86-4f81-b809-86da5e8611a4",
   "metadata": {},
   "outputs": [],
   "source": [
    "n_group_a = df_group_a['score_pos'].count()\n",
    "mean_group_a = round(df_group_a['score_pos'].mean(), 3)\n",
    "var_group_a = round(df_group_a['score_pos'].var(), 3)\n",
    "exame2_group_a = df_group_a['score_pos']\n",
    "\n",
    "n_group_b = df_group_b['score_pos'].count()\n",
    "mean_group_b = round(df_group_b['score_pos'].mean(), 3)\n",
    "var_group_b = round(df_group_b['score_pos'].var(), 3)\n",
    "exame2_group_b = df_group_b['score_pos']\n",
    "\n",
    "# Independent, unbalanced, not normal\n",
    "U, p = mannwhitneyu(exame2_group_a, exame2_group_b, method=\"exact\")\n",
    "d, res = cliffs_delta(exame2_group_a, exame2_group_b)\n",
    "\n",
    "U = int(U)\n",
    "p = round(p, 5)\n",
    "d = round(d, 5)"
   ]
  },
  {
   "cell_type": "code",
   "execution_count": 76,
   "id": "24feec33-b8c9-44ec-b18e-fa050e08b296",
   "metadata": {},
   "outputs": [
    {
     "data": {
      "text/markdown": [
       "\n",
       "| Groups   | N           | Mean           | Variance      | U Statistics | p-value | Cliffs-delta | Cliffs-d result |\n",
       "|----------|-------------|----------------|---------------|--------------|---------|--------------|-----------------|\n",
       "| Group A  | 24 | 4.94 | 1.335 | 203          | 0.77249     | -0.05787          |negligible            |\n",
       "| Group B  | 18 | 4.894 | 1.782 | -            | -       | -            | -               |\n"
      ],
      "text/plain": [
       "<IPython.core.display.Markdown object>"
      ]
     },
     "metadata": {},
     "output_type": "display_data"
    }
   ],
   "source": [
    "# Table 1\n",
    "table_md = f\"\"\"\n",
    "| Groups   | N           | Mean           | Variance      | U Statistics | p-value | Cliffs-delta | Cliffs-d result |\n",
    "|----------|-------------|----------------|---------------|--------------|---------|--------------|-----------------|\n",
    "| Group A  | {n_group_a} | {mean_group_a} | {var_group_a} | {U}          | {p}     | {d}          |{res}            |\n",
    "| Group B  | {n_group_b} | {mean_group_b} | {var_group_b} | -            | -       | -            | -               |\n",
    "\"\"\"\n",
    "\n",
    "display(Markdown(table_md))"
   ]
  },
  {
   "cell_type": "markdown",
   "id": "29aa328b-2a55-4c5a-a2fa-cfa94a5aa50b",
   "metadata": {},
   "source": [
    "We can see the effect but there is no difference using or not the IA."
   ]
  },
  {
   "cell_type": "markdown",
   "id": "362a4cb1-20e6-4f0d-b313-7b2add72a261",
   "metadata": {},
   "source": [
    "# Group B - pre and pos-test comparison\n",
    "\n",
    "We calculate if there is diffence between regarding group B pre and post-test"
   ]
  },
  {
   "cell_type": "code",
   "execution_count": 77,
   "id": "0d88f6d6-d906-4418-a363-8caf07ad8bc9",
   "metadata": {},
   "outputs": [],
   "source": [
    "n_group_b1 = df_group_b['score_pre'].count()\n",
    "mean_group_b1 = round(df_group_b['score_pre'].mean(), 3)\n",
    "var_group_b1 = round(df_group_b['score_pre'].var(), 3)\n",
    "exame1_group_b = df_group_b['score_pre']\n",
    "\n",
    "n_group_b2 = df_group_b['score_pos'].count()\n",
    "mean_group_b2 = round(df_group_b['score_pos'].mean(), 3)\n",
    "var_group_b2 = round(df_group_b['score_pos'].var(), 3)\n",
    "exame2_group_b = df_group_b['score_pos']\n",
    "\n",
    "# Dependent, Balanced, not normal\n",
    "wc = wilcoxon(exame1_group_b, exame2_group_b)\n",
    "d, res = cliffs_delta(exame1_group_b, exame2_group_b)\n",
    "\n",
    "U = int(wc.statistic)\n",
    "p = round(wc.pvalue, 5)\n",
    "d = round(d, 5)"
   ]
  },
  {
   "cell_type": "code",
   "execution_count": 78,
   "id": "26954d64-a56c-46cd-affe-2a1f384c623a",
   "metadata": {},
   "outputs": [
    {
     "data": {
      "text/markdown": [
       "\n",
       "| Groups       | N            | Mean            | Variance       | U Statistics | p-value | Cliffs-delta | Cliffs-d result |\n",
       "|--------------|--------------|-----------------|----------------|--------------|---------|--------------|-----------------|\n",
       "| Group B-pre  | 18 | 5.035 | 1.942 | 81          | 0.86504     | -0.08333          |negligible            |\n",
       "| Group B-pos  | 18 | 4.894 | 1.782 | -            | -       | -            | -               |\n"
      ],
      "text/plain": [
       "<IPython.core.display.Markdown object>"
      ]
     },
     "metadata": {},
     "output_type": "display_data"
    }
   ],
   "source": [
    "# Table 1\n",
    "table_md = f\"\"\"\n",
    "| Groups       | N            | Mean            | Variance       | U Statistics | p-value | Cliffs-delta | Cliffs-d result |\n",
    "|--------------|--------------|-----------------|----------------|--------------|---------|--------------|-----------------|\n",
    "| Group B-pre  | {n_group_b1} | {mean_group_b1} | {var_group_b1} | {U}          | {p}     | {d}          |{res}            |\n",
    "| Group B-pos  | {n_group_b2} | {mean_group_b2} | {var_group_b2} | -            | -       | -            | -               |\n",
    "\"\"\"\n",
    "\n",
    "display(Markdown(table_md))"
   ]
  },
  {
   "cell_type": "markdown",
   "id": "1c061892-5829-469a-b69d-ab4d15f11719",
   "metadata": {},
   "source": [
    "We can see the effect but there is no difference using or not the IA."
   ]
  },
  {
   "cell_type": "markdown",
   "id": "e8f24c7e-4ea1-4273-aeeb-8574f805c032",
   "metadata": {},
   "source": [
    "# Group A - pre and pos-test comparison\n",
    "\n",
    "We calculate if there is diffence between regarding group B pre and post-test"
   ]
  },
  {
   "cell_type": "code",
   "execution_count": 79,
   "id": "8bc89324-8bfd-418e-88d1-044b9b44cbab",
   "metadata": {},
   "outputs": [],
   "source": [
    "n_group_a1 = df_group_a['score_pre'].count()\n",
    "mean_group_a1 = round(df_group_a['score_pre'].mean(), 3)\n",
    "var_group_a1 = round(df_group_a['score_pre'].var(), 3)\n",
    "exame1_group_a = df_group_a['score_pre']\n",
    "\n",
    "n_group_a2 = df_group_a['score_pos'].count()\n",
    "mean_group_a2 = round(df_group_a['score_pos'].mean(), 3)\n",
    "var_group_a2 = round(df_group_a['score_pos'].var(), 3)\n",
    "exame2_group_a = df_group_a['score_pos']\n",
    "\n",
    "# Dependent, Balanced, not normal\n",
    "wc = wilcoxon(exame1_group_a, exame2_group_a)\n",
    "d, res = cliffs_delta(exame1_group_a, exame2_group_a)\n",
    "\n",
    "U = int(wc.statistic)\n",
    "p = round(wc.pvalue, 5)\n",
    "d = round(d, 5)"
   ]
  },
  {
   "cell_type": "code",
   "execution_count": 80,
   "id": "a2809583-9273-4310-9eca-84234be025a3",
   "metadata": {},
   "outputs": [
    {
     "data": {
      "text/markdown": [
       "\n",
       "| Groups       | N            | Mean            | Variance       | U Statistics | p-value | Cliffs-delta | Cliffs-d result |\n",
       "|--------------|--------------|-----------------|----------------|--------------|---------|--------------|-----------------|\n",
       "| Group A-pre  | 24 | 4.864 | 0.76 | 144          | 0.87741     | -0.15278          |small            |\n",
       "| Group A-pos  | 24 | 4.94 | 1.335 | -            | -       | -            | -               |\n"
      ],
      "text/plain": [
       "<IPython.core.display.Markdown object>"
      ]
     },
     "metadata": {},
     "output_type": "display_data"
    }
   ],
   "source": [
    "# Table 1\n",
    "table_md = f\"\"\"\n",
    "| Groups       | N            | Mean            | Variance       | U Statistics | p-value | Cliffs-delta | Cliffs-d result |\n",
    "|--------------|--------------|-----------------|----------------|--------------|---------|--------------|-----------------|\n",
    "| Group A-pre  | {n_group_a1} | {mean_group_a1} | {var_group_a1} | {U}          | {p}     | {d}          |{res}            |\n",
    "| Group A-pos  | {n_group_a2} | {mean_group_a2} | {var_group_a2} | -            | -       | -            | -               |\n",
    "\"\"\"\n",
    "\n",
    "display(Markdown(table_md))"
   ]
  },
  {
   "cell_type": "markdown",
   "id": "43147718",
   "metadata": {},
   "source": [
    "# Group A and B - Final exam\n",
    "\n",
    "We calculate if there is diffence between using and not using ChatGPT"
   ]
  },
  {
   "cell_type": "code",
   "execution_count": 81,
   "id": "1be3315b",
   "metadata": {},
   "outputs": [],
   "source": [
    "n_group_a = df_group_a['mid_term'].count()\n",
    "mean_group_a = round(df_group_a['mid_term'].mean(), 3)\n",
    "var_group_a = round(df_group_a['mid_term'].var(), 3)\n",
    "exame2_group_a = df_group_a['mid_term']\n",
    "\n",
    "n_group_b = df_group_b['mid_term'].count()\n",
    "mean_group_b = round(df_group_b['mid_term'].mean(), 3)\n",
    "var_group_b = round(df_group_b['mid_term'].var(), 3)\n",
    "exame2_group_b = df_group_b['mid_term']\n",
    "\n",
    "# Independent, unbalanced, not normal\n",
    "U, p = mannwhitneyu(exame2_group_a, exame2_group_b, method=\"exact\")\n",
    "d, res = cliffs_delta(exame2_group_a, exame2_group_b)\n",
    "\n",
    "U = int(U)\n",
    "p = round(p, 5)\n",
    "d = round(d, 5)\n",
    "\n",
    "U = int(U)\n",
    "p = round(p, 5)\n",
    "d = round(d, 5)"
   ]
  },
  {
   "cell_type": "code",
   "execution_count": 82,
   "id": "be4bf581",
   "metadata": {},
   "outputs": [
    {
     "data": {
      "text/markdown": [
       "\n",
       "| Groups   | N           | Mean           | Variance      | U Statistics | p-value | Cliffs-delta | Cliffs-d result |\n",
       "|----------|-------------|----------------|---------------|--------------|---------|--------------|-----------------|\n",
       "| Group A  | 24 | 7.202 | 4.86 | 224          | 0.85046     | 0.03704          |negligible            |\n",
       "| Group B  | 18 | 7.05 | 6.914 | -            | -       | -            | -               |\n"
      ],
      "text/plain": [
       "<IPython.core.display.Markdown object>"
      ]
     },
     "metadata": {},
     "output_type": "display_data"
    }
   ],
   "source": [
    "table_md = f\"\"\"\n",
    "| Groups   | N           | Mean           | Variance      | U Statistics | p-value | Cliffs-delta | Cliffs-d result |\n",
    "|----------|-------------|----------------|---------------|--------------|---------|--------------|-----------------|\n",
    "| Group A  | {n_group_a} | {mean_group_a} | {var_group_a} | {U}          | {p}     | {d}          |{res}            |\n",
    "| Group B  | {n_group_b} | {mean_group_b} | {var_group_b} | -            | -       | -            | -               |\n",
    "\"\"\"\n",
    "\n",
    "display(Markdown(table_md))"
   ]
  },
  {
   "cell_type": "markdown",
   "id": "2c21b357-ec67-477a-a1e1-dfedaeda932d",
   "metadata": {},
   "source": [
    "# Group A and B - MOSS exam\n",
    "\n",
    "We calculate if there is diffence between regarding group B pre and post-test"
   ]
  },
  {
   "cell_type": "code",
   "execution_count": 83,
   "id": "070852c7-1a56-4ef6-a8cc-51c86af3e7a2",
   "metadata": {},
   "outputs": [],
   "source": [
    "n_group_a = df_group_a['moss'].count()\n",
    "mean_group_a = round(df_group_a['moss'].mean(), 3)\n",
    "var_group_a = round(df_group_a['moss'].var(), 3)\n",
    "exame2_group_a = df_group_a['moss']\n",
    "\n",
    "n_group_b = df_group_b['moss'].count()\n",
    "mean_group_b = round(df_group_b['moss'].mean(), 3)\n",
    "var_group_b = round(df_group_b['moss'].var(), 3)\n",
    "exame2_group_b = df_group_b['moss']\n",
    "\n",
    "# Independent, unbalanced, not normal\n",
    "U, p = mannwhitneyu(exame2_group_a, exame2_group_b, method=\"exact\")\n",
    "d, res = cliffs_delta(exame2_group_a, exame2_group_b)\n",
    "\n",
    "U = int(U)\n",
    "p = round(p, 5)\n",
    "d = round(d, 5)\n",
    "\n",
    "U = int(U)\n",
    "p = round(p, 5)\n",
    "d = round(d, 5)"
   ]
  },
  {
   "cell_type": "code",
   "execution_count": 84,
   "id": "48556b68-5a25-40e7-b372-cb62dca23976",
   "metadata": {},
   "outputs": [
    {
     "data": {
      "text/markdown": [
       "\n",
       "| Groups   | N           | Mean           | Variance      | U Statistics | p-value | Cliffs-delta | Cliffs-d result |\n",
       "|----------|-------------|----------------|---------------|--------------|---------|--------------|-----------------|\n",
       "| Group A  | 24 | 76.626 | 103.805 | 309          | 0.01755     | 0.43056          |medium            |\n",
       "| Group B  | 18 | 68.079 | 89.762 | -            | -       | -            | -               |\n"
      ],
      "text/plain": [
       "<IPython.core.display.Markdown object>"
      ]
     },
     "metadata": {},
     "output_type": "display_data"
    }
   ],
   "source": [
    "table_md = f\"\"\"\n",
    "| Groups   | N           | Mean           | Variance      | U Statistics | p-value | Cliffs-delta | Cliffs-d result |\n",
    "|----------|-------------|----------------|---------------|--------------|---------|--------------|-----------------|\n",
    "| Group A  | {n_group_a} | {mean_group_a} | {var_group_a} | {U}          | {p}     | {d}          |{res}            |\n",
    "| Group B  | {n_group_b} | {mean_group_b} | {var_group_b} | -            | -       | -            | -               |\n",
    "\"\"\"\n",
    "\n",
    "display(Markdown(table_md))"
   ]
  }
 ],
 "metadata": {
  "kernelspec": {
   "display_name": "Python 3",
   "language": "python",
   "name": "python3"
  },
  "language_info": {
   "codemirror_mode": {
    "name": "ipython",
    "version": 3
   },
   "file_extension": ".py",
   "mimetype": "text/x-python",
   "name": "python",
   "nbconvert_exporter": "python",
   "pygments_lexer": "ipython3",
   "version": "3.9.6"
  }
 },
 "nbformat": 4,
 "nbformat_minor": 5
}
